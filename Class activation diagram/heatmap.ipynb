{
 "cells": [
  {
   "cell_type": "code",
   "execution_count": 1,
   "metadata": {},
   "outputs": [
    {
     "name": "stderr",
     "output_type": "stream",
     "text": [
      "Using TensorFlow backend.\n"
     ]
    },
    {
     "data": {
      "text/plain": [
       "(1254, 64, 64, 4)"
      ]
     },
     "execution_count": 1,
     "metadata": {},
     "output_type": "execute_result"
    }
   ],
   "source": [
    "import numpy as np\n",
    "import matplotlib.pyplot as plt\n",
    "from sklearn import metrics\n",
    "from sklearn.model_selection import StratifiedKFold\n",
    "import h5py\n",
    "from keras.models import load_model\n",
    "\n",
    "cell = 'IMR90'  # HeLa-S3  HUVEC\n",
    "\n",
    "file_name_cell = '../' + cell + '_all_data_hilbert_without_aug.h5'  # _hilbert_aug _origin\n",
    "with h5py.File(file_name_cell, 'r') as hf:\n",
    "    dataset_enhancer = np.array(hf.get('enhancers'))\n",
    "    dataset_promoter = np.array(hf.get('promoters'))\n",
    "    labels = np.array(hf.get('labels'))\n",
    "\n",
    "pos = 0\n",
    "for i in range(len(labels)):\n",
    "    if labels[i] == 1:\n",
    "        pos += 1\n",
    "\n",
    "pos_enh = dataset_enhancer[:pos]\n",
    "pos_pro = dataset_promoter[:pos]\n",
    "\n",
    "pos_enh.shape"
   ]
  },
  {
   "cell_type": "code",
   "execution_count": 2,
   "metadata": {
    "collapsed": true
   },
   "outputs": [
    {
     "name": "stdout",
     "output_type": "stream",
     "text": [
      "__________________________________________________________________________________________________\n",
      "Layer (type)                    Output Shape         Param #     Connected to                     \n",
      "==================================================================================================\n",
      "input_1 (InputLayer)            (None, 64, 64, 4)    0                                            \n",
      "__________________________________________________________________________________________________\n",
      "input_2 (InputLayer)            (None, 64, 64, 4)    0                                            \n",
      "__________________________________________________________________________________________________\n",
      "conv2d_1 (Conv2D)               (None, 16, 16, 64)   6464        input_1[0][0]                    \n",
      "__________________________________________________________________________________________________\n",
      "conv2d_3 (Conv2D)               (None, 16, 16, 64)   6464        input_2[0][0]                    \n",
      "__________________________________________________________________________________________________\n",
      "max_pooling2d_1 (MaxPooling2D)  (None, 7, 7, 64)     0           conv2d_1[0][0]                   \n",
      "__________________________________________________________________________________________________\n",
      "max_pooling2d_2 (MaxPooling2D)  (None, 7, 7, 64)     0           conv2d_3[0][0]                   \n",
      "__________________________________________________________________________________________________\n",
      "conv2d_2 (Conv2D)               (None, 4, 4, 128)    73856       max_pooling2d_1[0][0]            \n",
      "__________________________________________________________________________________________________\n",
      "conv2d_4 (Conv2D)               (None, 4, 4, 128)    73856       max_pooling2d_2[0][0]            \n",
      "__________________________________________________________________________________________________\n",
      "global_max_pooling2d_1 (GlobalM (None, 128)          0           conv2d_2[0][0]                   \n",
      "__________________________________________________________________________________________________\n",
      "global_max_pooling2d_2 (GlobalM (None, 128)          0           conv2d_4[0][0]                   \n",
      "__________________________________________________________________________________________________\n",
      "concatenate_1 (Concatenate)     (None, 256)          0           global_max_pooling2d_1[0][0]     \n",
      "                                                                 global_max_pooling2d_2[0][0]     \n",
      "__________________________________________________________________________________________________\n",
      "dropout_1 (Dropout)             (None, 256)          0           concatenate_1[0][0]              \n",
      "__________________________________________________________________________________________________\n",
      "dense_1 (Dense)                 (None, 128)          32896       dropout_1[0][0]                  \n",
      "__________________________________________________________________________________________________\n",
      "dense_2 (Dense)                 (None, 1)            129         dense_1[0][0]                    \n",
      "==================================================================================================\n",
      "Total params: 193,665\n",
      "Trainable params: 193,665\n",
      "Non-trainable params: 0\n",
      "__________________________________________________________________________________________________\n"
     ]
    }
   ],
   "source": [
    "model = load_model('../%s_bestmodel.h5' % cell)\n",
    "model.summary()"
   ]
  },
  {
   "cell_type": "code",
   "execution_count": 32,
   "metadata": {},
   "outputs": [],
   "source": [
    "from keras.models import Model\n",
    "\n",
    "def get_sequence(index):\n",
    "    enh = np.array(pos_enh[index])\n",
    "    pro = np.array(pos_pro[index])\n",
    "\n",
    "    conv2d_enh = Model(inputs=model.input,outputs=model.get_layer('conv2d_2').output)\n",
    "    conv2d_pro = Model(inputs=model.input,outputs=model.get_layer('conv2d_4').output)\n",
    "    enh = np.expand_dims(enh, axis=0) # 升高维度 64*64*4 至 1*64*64*4\n",
    "    pro = np.expand_dims(pro, axis=0)\n",
    "    enhancer_output = conv2d_enh.predict([enh,pro])\n",
    "    promoter_output = conv2d_pro.predict([enh,pro])\n",
    "    \n",
    "    enhancer_output=np.squeeze(enhancer_output)  # 64*64*4\n",
    "    enh=np.squeeze(enh)  # 4*4*128\n",
    "    promoter_output=np.squeeze(promoter_output)  # 64*64*4\n",
    "    pro=np.squeeze(pro)  # 降低维度 1*4*4*128至4*4*128 \n",
    "    \n",
    "    return enh,pro,enhancer_output,promoter_output"
   ]
  },
  {
   "cell_type": "code",
   "execution_count": 33,
   "metadata": {},
   "outputs": [],
   "source": [
    "enh,pro,enh_out,pro_out = get_sequence(40)"
   ]
  },
  {
   "cell_type": "code",
   "execution_count": 34,
   "metadata": {},
   "outputs": [],
   "source": [
    "def plt_show_prepare(input_s,output_s):\n",
    "    temp_input1 = input_s[:,:,0]\n",
    "    temp_input2 = input_s[:,:,1]\n",
    "    temp_input3 = input_s[:,:,2]\n",
    "    temp_input4 = input_s[:,:,3]\n",
    "    temp_output = np.zeros((4,4))\n",
    "\n",
    "    for i in range(128):\n",
    "        temp_output += output_s[:,:,i]\n",
    "\n",
    "    temp_output = temp_output.astype(np.uint8)\n",
    "    temp_output = temp_output/np.max(temp_output)\n",
    "    \n",
    "    return temp_input1,temp_input2,temp_input3,temp_input4,temp_output"
   ]
  },
  {
   "cell_type": "code",
   "execution_count": 35,
   "metadata": {},
   "outputs": [],
   "source": [
    "temp_input1,temp_input2,temp_input3,temp_input4,temp_output = plt_show_prepare(enh,enh_out)"
   ]
  },
  {
   "cell_type": "code",
   "execution_count": 40,
   "metadata": {},
   "outputs": [],
   "source": [
    "def plt_show(name):\n",
    "    plt.imshow(name,cmap='gray')\n",
    "    plt.rcParams['axes.unicode_minus'] = False  # 用来正常显示负号\n",
    "    plt.show()"
   ]
  },
  {
   "cell_type": "code",
   "execution_count": 44,
   "metadata": {},
   "outputs": [
    {
     "data": {
      "image/png": "[encoded data removed]",
      "text/plain": [
       "<Figure size 432x288 with 1 Axes>"
      ]
     },
     "metadata": {},
     "output_type": "display_data"
    }
   ],
   "source": [
    "plt_show(temp_input4)"
   ]
  },
  {
   "cell_type": "code",
   "execution_count": 45,
   "metadata": {},
   "outputs": [
    {
     "data": {
      "image/png": "[encoded data removed]",
      "text/plain": [
       "<Figure size 432x288 with 1 Axes>"
      ]
     },
     "metadata": {},
     "output_type": "display_data"
    }
   ],
   "source": [
    "plt_show(temp_input2)"
   ]
  },
  {
   "cell_type": "code",
   "execution_count": 47,
   "metadata": {},
   "outputs": [
    {
     "data": {
      "text/plain": [
       "(64, 64)"
      ]
     },
     "execution_count": 47,
     "metadata": {},
     "output_type": "execute_result"
    }
   ],
   "source": [
    "temp_input1.shape"
   ]
  },
  {
   "cell_type": "code",
   "execution_count": 48,
   "metadata": {},
   "outputs": [
    {
     "data": {
      "text/plain": [
       "array([[0.6, 0.8, 0.7, 0.6],\n",
       "       [0.6, 1. , 1. , 0.9],\n",
       "       [0.4, 0.6, 0.8, 0.8],\n",
       "       [0. , 0.2, 0.5, 0.6]])"
      ]
     },
     "execution_count": 48,
     "metadata": {},
     "output_type": "execute_result"
    }
   ],
   "source": [
    "temp_output"
   ]
  },
  {
   "cell_type": "code",
   "execution_count": 49,
   "metadata": {},
   "outputs": [
    {
     "data": {
      "image/png": "[encoded data removed]",
      "text/plain": [
       "<Figure size 432x288 with 1 Axes>"
      ]
     },
     "metadata": {},
     "output_type": "display_data"
    }
   ],
   "source": [
    "plt_show(temp_output)"
   ]
  },
  {
   "cell_type": "code",
   "execution_count": 51,
   "metadata": {},
   "outputs": [
    {
     "data": {
      "text/plain": [
       "(4, 4, 128)"
      ]
     },
     "execution_count": 51,
     "metadata": {},
     "output_type": "execute_result"
    }
   ],
   "source": [
    "enh_out.shape"
   ]
  },
  {
   "cell_type": "code",
   "execution_count": 54,
   "metadata": {},
   "outputs": [
    {
     "data": {
      "text/plain": [
       "array([[0.07863908, 0.06861991, 0.03411293, 0.        ],\n",
       "       [0.12628329, 0.14753903, 0.19317919, 0.08543525],\n",
       "       [0.11437594, 0.17230819, 0.        , 0.14232774],\n",
       "       [0.        , 0.04484231, 0.20558703, 0.16227321]], dtype=float32)"
      ]
     },
     "execution_count": 54,
     "metadata": {},
     "output_type": "execute_result"
    }
   ],
   "source": [
    "enh_out[:,:,2]"
   ]
  },
  {
   "cell_type": "code",
   "execution_count": null,
   "metadata": {},
   "outputs": [],
   "source": []
  }
 ],
 "metadata": {
  "kernelspec": {
   "display_name": "Python 3",
   "language": "python",
   "name": "python3"
  },
  "language_info": {
   "codemirror_mode": {
    "name": "ipython",
    "version": 3
   },
   "file_extension": ".py",
   "mimetype": "text/x-python",
   "name": "python",
   "nbconvert_exporter": "python",
   "pygments_lexer": "ipython3",
   "version": "3.6.3"
  }
 },
 "nbformat": 4,
 "nbformat_minor": 2
}
